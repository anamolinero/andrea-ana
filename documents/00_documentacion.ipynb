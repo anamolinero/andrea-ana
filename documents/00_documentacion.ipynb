{
 "cells": [
  {
   "cell_type": "markdown",
   "metadata": {},
   "source": [
    "# Documentación del Proyecto"
   ]
  },
  {
   "cell_type": "markdown",
   "metadata": {},
   "source": [
    "## Fuentes de Datos: KAGGLE\n",
    "\n",
    "1. H&M Scrapped Product Dataset (2025) \n",
    "    - link:https://www.kaggle.com/datasets/niharpatel03/h-and-m-product-dataset\n",
    "    - [csv datos iniciales](files/handm.csv)\n",
    "    - [csv datos limpios](files/products_hm_clean.csv)\n",
    "    - [certificaciones textiles (chatGPT)](files/certificaciones_textiles_completas.csv)\n",
    "\n",
    "2. H&M Stores Dataset (2022)\n",
    "    - link: https://www.kaggle.com/datasets/shivamb/hm-stores-dataset\n",
    "    - [csv](files/HM_all_stores.csv)\n",
    "\n",
    "3. Sustainable Fashion: Eco-Friendly Trends (2024)\n",
    "    - link: https://www.kaggle.com/datasets/waqi786/sustainable-fashion-eco-friendly-trends?resource=download\n",
    "    - [csv datos iniciales](files/sustainable_fashion_trends_2024.csv)\n",
    "    - [csv datos limpios](../files/stores_clean.csv)\n",
    "\n",
    "\n",
    "4. Sustainable Lifestyle Rating Dataset (2024)\n",
    "    - link: https://www.kaggle.com/datasets/naveennas/sustainable-lifestyle-rating-dataset?resource=download\n",
    "    - [csv](files/lifestyle_sustainability_data.csv)\n"
   ]
  },
  {
   "cell_type": "markdown",
   "metadata": {},
   "source": [
    "### 1. H&M Scrapped Product Dataset (2025) \n",
    "\n",
    "Columns:\n",
    "\n",
    "\n",
    "Puntos clave:\n",
    "- Informacion sobre cantidad de productos producidos con tejidos recilcados y algodon ogánico.\n",
    "- Clasificar por tipo de producto pproporcion de reciclado y organico\n",
    "- Comparación entre productos organicos y reciclados\n",
    "- Comparación \n",
    "- Cantos productos se ofrecen por tipo de cliente por categoria\n",
    "- comparativa de si son mas caros los tipos de producto segun si son reciclados o no\n"
   ]
  },
  {
   "cell_type": "markdown",
   "metadata": {},
   "source": [
    "### 2. H&M Stores Dataset (2022)\n",
    "\n",
    "Columns:\n",
    "- storeCode\n",
    "- storeClass\n",
    "- name\n",
    "- phone\n",
    "- city\n",
    "- country\n",
    "- countryCode\n",
    "- longitude\n",
    "- latitude\n",
    "- timeZoneIndex\n",
    "- Mon_open_hours\n",
    "- Tue_open_hours\n",
    "- Wed_open_hours\n",
    "- Thu_open_hours\n",
    "- Fri_open_hours\n",
    "- Sat_open_hours\n",
    "- Sun_open_hours\n",
    "- streetName1\n",
    "- streetName2\n",
    "- state\n",
    "- address_string\n",
    "\n",
    "Puntos clave:\n",
    "- cuantas tiendas tiene hm global, pais\n",
    "- horarios de apertura\n",
    "- mapa con las tiendas\n",
    "- mapa con las ciudades anidado dentro del mapa de paises\n",
    "- horas totales de apertura, más de 10 horas al día..."
   ]
  },
  {
   "cell_type": "markdown",
   "metadata": {},
   "source": [
    "### 3. Sustainable Fashion: Eco-Friendly Trends (2024)\n",
    "\n",
    "Columns:\n",
    "- Country: Country where the brand is based\n",
    "- Brand: Name of the fashion brand\n",
    "- Sustainable Material (%): Percentage of sustainable materials used by the brand 🌱\n",
    "- Production Process: Method used for producing the clothing (e.g., recycled, organic) 🧵\n",
    "- Consumer Engagement Score: A score (out of 10) reflecting the brand’s impact on sustainable consumer behavior 🛍️\n",
    "- Year: Year the data was collected"
   ]
  },
  {
   "cell_type": "markdown",
   "metadata": {},
   "source": [
    "### 4. Sustainable Lifestyle Rating Dataset \n",
    "\n",
    "Columns:\n",
    "- ParticipantID: A unique identifier for each participant.\n",
    "- Age: The age of the participant.\n",
    "- Location: The location of the participant (Urban, Suburban, or Rural).\n",
    "- DietType: The dietary preference of the participant (Mostly Plant-Based, Balanced, or Mostly Animal-Based).\n",
    "- LocalFoodFrequency: How often the participant consumes locally sourced food (Often, Sometimes, or Rarely).\n",
    "- TransportationMode: The primary mode of transportation used by the participant (Bike, Public Transit, Car, or Walk).\n",
    "- EnergySource: The primary source of energy used in the participant's home (Renewable, Mixed, or Non-Renewable).\n",
    "- HomeType: The type of dwelling the participant lives in (Apartment or House).\n",
    "- HomeSize: The size of the participant's home in square feet.\n",
    "- ClothingFrequency: How often the participant purchases new clothing (Often, Sometimes, or Rarely).\n",
    "- SustainableBrands: Whether the participant prioritizes purchasing from sustainable brands (True or False).\n",
    "- EnvironmentalAwareness: A rating (1-5) indicating the participant's level of environmental awareness.\n",
    "- CommunityInvolvement: The participant's level of involvement in their community (High, Moderate, or Low).\n",
    "- MonthlyElectricityConsumption: The participant's average monthly electricity consumption in kilowatt-hours.\n",
    "- MonthlyWaterConsumption: The participant's average monthly water consumption in gallons.\n",
    "- Gender: The gender of the participant (Male, Female, or Non-Binary).\n",
    "- UsingPlasticProducts: How often the participant uses plastic products (Often, Sometimes, or Rarely).\n",
    "- DisposalMethods: The primary method the participant uses to dispose of waste (Composting, Recycling, Landfill, or Combination).\n",
    "- PhysicalActivities: The participant's level of physical activity (High, Moderate, or Low).\n",
    "- Rating: The overall sustainability rating assigned to the participant (1-5).\n"
   ]
  }
 ],
 "metadata": {
  "kernelspec": {
   "display_name": "base",
   "language": "python",
   "name": "python3"
  },
  "language_info": {
   "name": "python",
   "version": "3.12.7"
  }
 },
 "nbformat": 4,
 "nbformat_minor": 2
}
