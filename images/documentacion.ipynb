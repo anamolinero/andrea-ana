{
 "cells": [
  {
   "cell_type": "markdown",
   "metadata": {},
   "source": [
    "## H&M Scrapped Product Dataset\n",
    "hand.csv\n",
    "año 2025\n"
   ]
  },
  {
   "cell_type": "markdown",
   "metadata": {},
   "source": []
  },
  {
   "cell_type": "markdown",
   "metadata": {},
   "source": []
  },
  {
   "cell_type": "markdown",
   "metadata": {},
   "source": [
    "Sustainable_fashion....\n",
    "https://www.kaggle.com/datasets/naveennas/sustainable-lifestyle-rating-dataset?resource=download"
   ]
  },
  {
   "cell_type": "markdown",
   "metadata": {},
   "source": [
    "hm_all_stores\n",
    "\n",
    "- cuantas tiendas tiene hm repartidas \n",
    "- horarios de apertura\n",
    "- mapa con las tiendas\n",
    "- mapa con las ciudades anidado dentro del mapa de paises\n",
    "- horas totales de apertura, más de 10 horas al día..."
   ]
  },
  {
   "cell_type": "markdown",
   "metadata": {},
   "source": [
    "Products hm clean\n",
    "\n",
    "- Informacion sobre cantidad de productos producidos con tejidos recilcados y algodon ogánico.\n",
    "- Clasificar por tipo de producto pproporcion de reciclado y organico\n",
    "- Comparación entre productos organicos y reciclados\n",
    "- Comparación \n",
    "- Cantos productos se ofrecen por tipo de cliente por categoria\n",
    "- comparativa de si son mas caros los tipos de producto segun si son reciclados o no\n"
   ]
  },
  {
   "cell_type": "markdown",
   "metadata": {},
   "source": [
    "lifestyle_sustainability_data (Habitos del consumidor)\n",
    "\n",
    "- "
   ]
  },
  {
   "cell_type": "markdown",
   "metadata": {},
   "source": []
  }
 ],
 "metadata": {
  "kernelspec": {
   "display_name": "base",
   "language": "python",
   "name": "python3"
  },
  "language_info": {
   "name": "python",
   "version": "3.12.7"
  }
 },
 "nbformat": 4,
 "nbformat_minor": 2
}
